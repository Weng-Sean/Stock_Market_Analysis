{
  "nbformat": 4,
  "nbformat_minor": 0,
  "metadata": {
    "colab": {
      "provenance": []
    },
    "kernelspec": {
      "name": "python3",
      "display_name": "Python 3"
    },
    "language_info": {
      "name": "python"
    }
  },
  "cells": [
    {
      "cell_type": "code",
      "execution_count": null,
      "metadata": {
        "id": "WYZIP391WiCf"
      },
      "outputs": [],
      "source": [
        "import pandas as pd\n",
        "import matplotlib.pyplot as plt\n",
        "import numpy as np\n",
        "from bs4 import BeautifulSoup as bs\n",
        "import os\n",
        "import datetime\n",
        "from datetime import datetime as dt\n",
        "from scipy import stats\n",
        "import seaborn as sns\n",
        "from tqdm import tqdm\n",
        "import pickle\n",
        "import time\n",
        "import math\n",
        "\n",
        "plt.rcParams['figure.figsize'] = [20, 10]"
      ]
    },
    {
      "cell_type": "code",
      "source": [
        "# how many previous trading days to compare in the report\n",
        "REPORT_PERIOD = 1"
      ],
      "metadata": {
        "id": "V2N8Ru-0Wxg5"
      },
      "execution_count": null,
      "outputs": []
    },
    {
      "cell_type": "code",
      "source": [
        "with open(\"/content/drive/MyDrive/Investment_Analysis/stock_df.txt\", \"rb\") as f:\n",
        "    stock_df = pickle.loads(f.read())"
      ],
      "metadata": {
        "id": "y3RKSjekPyoY"
      },
      "execution_count": null,
      "outputs": []
    },
    {
      "cell_type": "code",
      "source": [
        "def get_dataframe(stock, anaysis_period = 365):\n",
        "    # A huge epoch that allows most up to date info\n",
        "    current_epoch = 3000000000\n",
        "    past_epoch = int((dt.now() - datetime.timedelta(anaysis_period)).timestamp())\n",
        "    url = f\"https://query1.finance.yahoo.com/v7/finance/download/{stock}?period1={past_epoch}&period2={current_epoch}&interval=1d&events=history&includeAdjustedClose=true\"\n",
        "    df = pd.read_csv(url)\n",
        "    return df"
      ],
      "metadata": {
        "id": "5OAYdLYHXF70"
      },
      "execution_count": null,
      "outputs": []
    },
    {
      "cell_type": "code",
      "source": [
        "def get_change():\n",
        "    report_dic = {}\n",
        "\n",
        "    for symbol in stock_df:\n",
        "        try:\n",
        "            df = stock_df[symbol]\n",
        "            change = ((df.Close - df.shift(REPORT_PERIOD).Close) / df.shift(REPORT_PERIOD).Close).to_list()[-1]\n",
        "            report_dic[symbol] = change\n",
        "\n",
        "        except Exception as e:\n",
        "            print(e)\n",
        "\n",
        "    return report_dic"
      ],
      "metadata": {
        "id": "msz_Wd2nXjf5"
      },
      "execution_count": null,
      "outputs": []
    },
    {
      "cell_type": "code",
      "source": [
        "report_dic = get_change()"
      ],
      "metadata": {
        "id": "BrqU0WcHY4Wb"
      },
      "execution_count": null,
      "outputs": []
    },
    {
      "cell_type": "code",
      "source": [
        "class change_pair:\n",
        "    def __init__(self, stock, change):\n",
        "        self.stock = stock\n",
        "        self.change = change\n",
        "    def __cmp__(self, other):\n",
        "        if self.change == other.change:\n",
        "            return 0\n",
        "        elif self.change > other.change:\n",
        "            return 1\n",
        "        else:\n",
        "            return -1\n",
        "\n",
        "    def __eq__(self, other):\n",
        "        return self.change == other.change\n",
        "\n",
        "    def __ne__(self, other):\n",
        "        return self.change != other.change\n",
        "\n",
        "    def __lt__(self, other):\n",
        "        return self.change < other.change\n",
        "\n",
        "    def __le__(self, other):\n",
        "        return self.change <= other.change\n",
        "\n",
        "    def __gt__(self, other):\n",
        "        return self.change > other.change\n",
        "\n",
        "    def __ge__(self, other):\n",
        "        return self.change >= other.change\n",
        "\n",
        "changes_list = []\n",
        "for k in report_dic:\n",
        "    if not math.isnan(report_dic[k]):\n",
        "        changes_list.append(change_pair(k, report_dic[k]))\n",
        "\n",
        "changes_list = sorted(changes_list)\n",
        "changes_list.reverse()\n"
      ],
      "metadata": {
        "id": "iirzRsSY_qhC"
      },
      "execution_count": null,
      "outputs": []
    },
    {
      "cell_type": "code",
      "source": [
        "# sort the report_dic\n",
        "symbols_list = [pair.stock for pair in changes_list]\n",
        "chan_list = [pair.change for pair in changes_list]\n",
        "\n",
        "print(symbols_list[:5])\n",
        "print(chan_list[:5])\n",
        "print(symbols_list[-1:-5:-1])\n",
        "print(chan_list[-1:-5:-1])"
      ],
      "metadata": {
        "id": "nV4mDPUzY98n",
        "colab": {
          "base_uri": "https://localhost:8080/"
        },
        "outputId": "19ec3920-5b4d-4ac0-ef5d-c4122b1f645a"
      },
      "execution_count": null,
      "outputs": [
        {
          "output_type": "stream",
          "name": "stdout",
          "text": [
            "['ELC', 'ISIG', 'PIXY', 'FTK', 'CPOP']\n",
            "[29.361446987951812, 0.6481802426343155, 0.4303959131545339, 0.40874999999999995, 0.35882352941176476]\n",
            "['PBTS', 'PAVMW', 'ADXS', 'SRTS']\n",
            "[-0.25451612903225806, -0.2495, -0.24500000000000008, -0.22671568627450986]\n"
          ]
        }
      ]
    },
    {
      "cell_type": "code",
      "source": [
        "# list of corresponding brightness\n",
        "labels = [i/10000 for i in range(2000, -1, -100)]\n",
        "brightnesses = [i for i in range(255, 34, -11)]\n",
        "\n",
        "# dimension of the matrix\n",
        "image_matrix = []\n",
        "row = []\n",
        "DIMENSION = 84\n",
        "\n",
        "\n",
        "for i, pair in enumerate(changes_list):\n",
        "    count = i % DIMENSION\n",
        "    k = pair.stock\n",
        "    v = pair.change\n",
        "    idx = 0\n",
        "    while abs(v) < labels[idx]:\n",
        "        idx += 1\n",
        "    brightness = brightnesses[idx]\n",
        "    if v > 0:\n",
        "        color = (0, brightness, 0)\n",
        "    else:\n",
        "        color = (brightness, 0, 0)\n",
        "    row.append(color)\n",
        "\n",
        "    if i == len(report_dic)-1 and count != DIMENSION - 1:\n",
        "        while len(image_matrix) != DIMENSION:\n",
        "            while len(row) < DIMENSION:\n",
        "                row.append((0,0,0))\n",
        "            image_matrix.append(row)\n",
        "            row = []\n",
        "\n",
        "    if count == DIMENSION - 1:\n",
        "        image_matrix.append(row)\n",
        "        row = []\n",
        ""
      ],
      "metadata": {
        "id": "xUFWN2ucbqLB"
      },
      "execution_count": null,
      "outputs": []
    },
    {
      "cell_type": "code",
      "source": [
        "plt.imshow(image_matrix)\n",
        "plt.show()"
      ],
      "metadata": {
        "id": "jRbJuc-4foqc",
        "colab": {
          "base_uri": "https://localhost:8080/",
          "height": 268
        },
        "outputId": "17626b3d-e2bf-4eec-9949-caf5b2f884a3"
      },
      "execution_count": null,
      "outputs": [
        {
          "output_type": "display_data",
          "data": {
            "image/png": "[encoded data removed]",
            "text/plain": [
              "<Figure size 432x288 with 1 Axes>"
            ]
          },
          "metadata": {
            "needs_background": "light"
          }
        }
      ]
    },
    {
      "cell_type": "code",
      "source": [],
      "metadata": {
        "id": "hswqACI6gFgn"
      },
      "execution_count": null,
      "outputs": []
    }
  ]
}