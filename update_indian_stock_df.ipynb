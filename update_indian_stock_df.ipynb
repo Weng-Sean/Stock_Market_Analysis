{
  "nbformat": 4,
  "nbformat_minor": 0,
  "metadata": {
    "colab": {
      "provenance": []
    },
    "kernelspec": {
      "name": "python3",
      "display_name": "Python 3"
    },
    "language_info": {
      "name": "python"
    }
  },
  "cells": [
    {
      "cell_type": "code",
      "execution_count": null,
      "metadata": {
        "id": "sufZvMSAzwv-"
      },
      "outputs": [],
      "source": [
        "import pandas as pd\n",
        "import matplotlib.pyplot as plt\n",
        "import numpy as np\n",
        "from bs4 import BeautifulSoup as bs\n",
        "import os\n",
        "import datetime\n",
        "from datetime import datetime as dt\n",
        "from scipy import stats\n",
        "import seaborn as sns\n",
        "from tqdm import tqdm\n",
        "import pickle\n",
        "import time\n",
        "import math\n",
        "from google.colab import output\n",
        "import cv2\n",
        "import requests\n",
        "pd.set_option('display.max_rows',None)\n"
      ]
    },
    {
      "cell_type": "code",
      "source": [
        "symbols = [\n",
        "           \"AZRE\",\n",
        "           \"RDY\",\n",
        "           \"ESGC\",\n",
        "           \"HDB\",\n",
        "           \"IBN\",\n",
        "           \"INFY\",\n",
        "           \"MMYT\",\n",
        "           \"SIFY\",\n",
        "           \"TTM\",\n",
        "           \"VEDL\",\n",
        "           \"WIT\",\n",
        "           \"WNS\",\n",
        "           \"YTRA\"\n",
        "]\n",
        "\n",
        "with open(\"Indian_stocks_symbols.txt\", \"wb\") as f:\n",
        "    f.write(pickle.dumps(symbols))"
      ],
      "metadata": {
        "id": "iB43WZVKz__Z"
      },
      "execution_count": null,
      "outputs": []
    },
    {
      "cell_type": "code",
      "source": [
        "def get_dataframe(stock, anaysis_period = 3650*2):\n",
        "    # A huge epoch that allows most up to date info\n",
        "    current_epoch = 3000000000\n",
        "    past_epoch = int((dt.now() - datetime.timedelta(anaysis_period)).timestamp())\n",
        "    url = f\"https://query1.finance.yahoo.com/v7/finance/download/{stock}?period1={past_epoch}&period2={current_epoch}&interval=1d&events=history&includeAdjustedClose=true\"\n",
        "    df = pd.read_csv(url)\n",
        "    return df\n",
        "\n",
        "def update_stock_df():\n",
        "    change_df = pd.DataFrame(columns = [\"stock\", \"change\"])\n",
        "    REPORT_PERIOD = 1\n",
        "    total_change = 0\n",
        "    total_stock = 0\n",
        "\n",
        "    labels = [i/10000 for i in range(500, -1, -25)]\n",
        "    brightnesses = [i for i in range(255, 34, -11)]\n",
        "\n",
        "    stock_df = {}\n",
        "    color_list = []\n",
        "\n",
        "\n",
        "\n",
        "    initialized = False\n",
        "    i = 1\n",
        "\n",
        "    for symbol in tqdm(symbols):\n",
        "        start = time.time()\n",
        "\n",
        "        try:\n",
        "            df = get_dataframe(symbol)\n",
        "            stock_df[symbol] = df\n",
        "\n",
        "            change = ((df.Close - df.shift(REPORT_PERIOD).Close) / df.shift(REPORT_PERIOD).Close).to_list()[-1]\n",
        "            idx = 0\n",
        "            while abs(change) < labels[idx]:\n",
        "                idx += 1\n",
        "            brightness = brightnesses[idx]\n",
        "            if change > 0:\n",
        "                color = (0, brightness, 0)\n",
        "            else:\n",
        "                color = (brightness, 0, 0)\n",
        "\n",
        "            color_list.append(color)\n",
        "            color_matrix = []\n",
        "\n",
        "            color_list = sorted(color_list)\n",
        "\n",
        "            DIMENSION = int(len(color_list)**(1/2))\n",
        "\n",
        "            for i in range(DIMENSION):\n",
        "                color_matrix.append(color_list[i*DIMENSION:(i+1)*DIMENSION])\n",
        "\n",
        "\n",
        "            if len(color_list) > DIMENSION * DIMENSION:\n",
        "                a = color_list[DIMENSION * DIMENSION:]\n",
        "                while len(a) > DIMENSION:\n",
        "                    color_matrix.append(a[:DIMENSION])\n",
        "                    a = a[DIMENSION:]\n",
        "                while len(a) < DIMENSION:\n",
        "                    a.append((255,255,255))\n",
        "\n",
        "                color_matrix.append(a)\n",
        "\n",
        "            plt.clf()\n",
        "            plt.imshow(color_matrix)\n",
        "            plt.savefig(f\"{i}.png\")\n",
        "            plt.show()\n",
        "\n",
        "            img = cv2.imread(f\"{i}.png\")\n",
        "            height, width, layers = img.shape\n",
        "            size = (width,height)\n",
        "\n",
        "            if not initialized:\n",
        "                out = cv2.VideoWriter(f\"output.mp4\",cv2.VideoWriter_fourcc(*'DIVX'), 1, size)\n",
        "                initialized = True\n",
        "\n",
        "\n",
        "            i += 1\n",
        "            out.write(img)\n",
        "\n",
        "            change_df = change_df.append({\"stock\":symbol, \"change\":change}, ignore_index=True)\n",
        "            total_change += change\n",
        "            total_stock += 1\n",
        "            print(\"average change:\", round(total_change/total_stock,6)*100, \"%\")\n",
        "\n",
        "\n",
        "\n",
        "\n",
        "        except Exception as e:\n",
        "            print(e)\n",
        "\n",
        "        while time.time() - start < 1:\n",
        "            pass\n",
        "\n",
        "    with open(\"/content/drive/MyDrive/Investment_Analysis/indian_stock_df.txt\", \"wb\") as f:\n",
        "        f.write(pickle.dumps(stock_df))\n",
        "    out.release()\n",
        "\n",
        "    return change_df"
      ],
      "metadata": {
        "id": "UeLzlHiS0bsK"
      },
      "execution_count": null,
      "outputs": []
    },
    {
      "cell_type": "code",
      "source": [
        "change_df = update_stock_df()"
      ],
      "metadata": {
        "colab": {
          "base_uri": "https://localhost:8080/",
          "height": 1000
        },
        "id": "XGWaPI7_0eA-",
        "outputId": "5432035a-1e56-42f8-d416-2467c95c4a64"
      },
      "execution_count": null,
      "outputs": [
        {
          "output_type": "stream",
          "name": "stderr",
          "text": [
            "\r  0%|          | 0/13 [00:00<?, ?it/s]"
          ]
        },
        {
          "output_type": "display_data",
          "data": {
            "image/png": "[encoded data removed]",
            "text/plain": [
              "<Figure size 432x288 with 1 Axes>"
            ]
          },
          "metadata": {
            "needs_background": "light"
          }
        },
        {
          "output_type": "stream",
          "name": "stdout",
          "text": [
            "average change: -0.1653 %\n"
          ]
        },
        {
          "output_type": "stream",
          "name": "stderr",
          "text": [
            "\r  8%|▊         | 1/13 [00:01<00:12,  1.00s/it]"
          ]
        },
        {
          "output_type": "display_data",
          "data": {
            "image/png": "[encoded data removed]",
            "text/plain": [
              "<Figure size 432x288 with 1 Axes>"
            ]
          },
          "metadata": {
            "needs_background": "light"
          }
        },
        {
          "output_type": "stream",
          "name": "stdout",
          "text": [
            "average change: -0.20500000000000002 %\n"
          ]
        },
        {
          "output_type": "stream",
          "name": "stderr",
          "text": [
            "\r 15%|█▌        | 2/13 [00:02<00:11,  1.00s/it]"
          ]
        },
        {
          "output_type": "display_data",
          "data": {
            "image/png": "[encoded data removed]",
            "text/plain": [
              "<Figure size 432x288 with 1 Axes>"
            ]
          },
          "metadata": {
            "needs_background": "light"
          }
        },
        {
          "output_type": "stream",
          "name": "stdout",
          "text": [
            "average change: 4.5856 %\n"
          ]
        },
        {
          "output_type": "stream",
          "name": "stderr",
          "text": [
            "\r 23%|██▎       | 3/13 [00:03<00:10,  1.00s/it]"
          ]
        },
        {
          "output_type": "display_data",
          "data": {
            "image/png": "[encoded data removed]",
            "text/plain": [
              "<Figure size 432x288 with 1 Axes>"
            ]
          },
          "metadata": {
            "needs_background": "light"
          }
        },
        {
          "output_type": "stream",
          "name": "stdout",
          "text": [
            "average change: 3.9962999999999997 %\n"
          ]
        },
        {
          "output_type": "stream",
          "name": "stderr",
          "text": [
            "\r 31%|███       | 4/13 [00:04<00:09,  1.00s/it]"
          ]
        },
        {
          "output_type": "display_data",
          "data": {
            "image/png": "[encoded data removed]",
            "text/plain": [
              "<Figure size 432x288 with 1 Axes>"
            ]
          },
          "metadata": {
            "needs_background": "light"
          }
        },
        {
          "output_type": "stream",
          "name": "stdout",
          "text": [
            "average change: 3.763 %\n"
          ]
        },
        {
          "output_type": "stream",
          "name": "stderr",
          "text": [
            "\r 38%|███▊      | 5/13 [00:05<00:08,  1.00s/it]"
          ]
        },
        {
          "output_type": "display_data",
          "data": {
            "image/png": "[encoded data removed]",
            "text/plain": [
              "<Figure size 432x288 with 1 Axes>"
            ]
          },
          "metadata": {
            "needs_background": "light"
          }
        },
        {
          "output_type": "stream",
          "name": "stdout",
          "text": [
            "average change: 3.1029 %\n"
          ]
        },
        {
          "output_type": "stream",
          "name": "stderr",
          "text": [
            "\r 46%|████▌     | 6/13 [00:06<00:07,  1.00s/it]"
          ]
        },
        {
          "output_type": "display_data",
          "data": {
            "image/png": "[encoded data removed]",
            "text/plain": [
              "<Figure size 432x288 with 1 Axes>"
            ]
          },
          "metadata": {
            "needs_background": "light"
          }
        },
        {
          "output_type": "stream",
          "name": "stdout",
          "text": [
            "average change: 3.3608 %\n"
          ]
        },
        {
          "output_type": "stream",
          "name": "stderr",
          "text": [
            "\r 54%|█████▍    | 7/13 [00:07<00:06,  1.00s/it]"
          ]
        }
      ]
    },
    {
      "cell_type": "code",
      "source": [
        "print(change_df.sort_values(by=[\"change\"]))\n"
      ],
      "metadata": {
        "id": "Y2tz5cQH0ein"
      },
      "execution_count": null,
      "outputs": []
    }
  ]
}