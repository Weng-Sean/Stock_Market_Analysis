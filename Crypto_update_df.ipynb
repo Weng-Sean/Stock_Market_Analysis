{
  "nbformat": 4,
  "nbformat_minor": 0,
  "metadata": {
    "colab": {
      "provenance": []
    },
    "kernelspec": {
      "name": "python3",
      "display_name": "Python 3"
    },
    "language_info": {
      "name": "python"
    }
  },
  "cells": [
    {
      "cell_type": "code",
      "source": [
        "import pandas as pd\n",
        "import matplotlib.pyplot as plt\n",
        "import numpy as np\n",
        "from bs4 import BeautifulSoup as bs\n",
        "import os\n",
        "import datetime\n",
        "from datetime import datetime as dt\n",
        "from scipy import stats\n",
        "import seaborn as sns\n",
        "from tqdm import tqdm\n",
        "import pickle\n",
        "import time\n",
        "import math\n",
        "from google.colab import output\n",
        "import cv2\n",
        "import requests\n",
        "pd.set_option('display.max_rows',None)\n"
      ],
      "metadata": {
        "id": "RPThaNBzgCWE"
      },
      "execution_count": null,
      "outputs": []
    },
    {
      "cell_type": "code",
      "execution_count": null,
      "metadata": {
        "id": "hXPeHBDHfCWp"
      },
      "outputs": [],
      "source": [
        "symbols = [\n",
        "           \"BTC-USD\",\n",
        "           \"ETH-USD\",\n",
        "           \"XRP-USD\",\n",
        "           \"BCH-USD\",\n",
        "           \"ADA-USD\",\n",
        "           \"LTC-USD\",\n",
        "           \"XEM-USD\",\n",
        "           \"XLM-USD\",\n",
        "           \"EOS-USD\",\n",
        "           \"NEO-USD\",\n",
        "           \"MIOTA-USD\",\n",
        "           \"DASH-USD\",\n",
        "           \"XMR-USD\",\n",
        "           \"TRX-USD\",\n",
        "           \"XTZ-USD\",\n",
        "           \"DOGE-USD\",\n",
        "           \"ETC-USD\",\n",
        "           \"VEN-USD\",\n",
        "           \"USDT-USD\",\n",
        "           \"BNB-USD\"\n",
        "]\n",
        "\n",
        "with open(\"crypto_symbols.txt\", \"wb\") as f:\n",
        "    f.write(pickle.dumps(symbols))"
      ]
    },
    {
      "cell_type": "code",
      "source": [
        "def get_dataframe(stock, anaysis_period = 3650*2):\n",
        "    # A huge epoch that allows most up to date info\n",
        "    current_epoch = 3000000000\n",
        "    past_epoch = int((dt.now() - datetime.timedelta(anaysis_period)).timestamp())\n",
        "    url = f\"https://query1.finance.yahoo.com/v7/finance/download/{stock}?period1={past_epoch}&period2={current_epoch}&interval=1d&events=history&includeAdjustedClose=true\"\n",
        "    df = pd.read_csv(url)\n",
        "    return df\n",
        "\n",
        "def update_stock_df():\n",
        "    change_df = pd.DataFrame(columns = [\"stock\", \"change\"])\n",
        "    REPORT_PERIOD = 1\n",
        "    total_change = 0\n",
        "    total_stock = 0\n",
        "\n",
        "    labels = [i/10000 for i in range(500, -1, -25)]\n",
        "    brightnesses = [i for i in range(255, 34, -11)]\n",
        "\n",
        "    stock_df = {}\n",
        "    color_list = []\n",
        "\n",
        "    initialized = False\n",
        "    i = 1\n",
        "\n",
        "    for symbol in tqdm(symbols):\n",
        "        start = time.time()\n",
        "\n",
        "        try:\n",
        "            df = get_dataframe(symbol)\n",
        "            stock_df[symbol] = df\n",
        "\n",
        "            change = ((df.Close - df.shift(REPORT_PERIOD).Close) / df.shift(REPORT_PERIOD).Close).to_list()[-1]\n",
        "            idx = 0\n",
        "            while abs(change) < labels[idx]:\n",
        "                idx += 1\n",
        "            brightness = brightnesses[idx]\n",
        "            if change > 0:\n",
        "                color = (0, brightness, 0)\n",
        "            else:\n",
        "                color = (brightness, 0, 0)\n",
        "\n",
        "            color_list.append(color)\n",
        "            color_matrix = []\n",
        "\n",
        "            color_list = sorted(color_list)\n",
        "\n",
        "            DIMENSION = int(len(color_list)**(1/2))\n",
        "\n",
        "            for i in range(DIMENSION):\n",
        "                color_matrix.append(color_list[i*DIMENSION:(i+1)*DIMENSION])\n",
        "\n",
        "\n",
        "            if len(color_list) > DIMENSION * DIMENSION:\n",
        "                a = color_list[DIMENSION * DIMENSION:]\n",
        "                while len(a) > DIMENSION:\n",
        "                    color_matrix.append(a[:DIMENSION])\n",
        "                    a = a[DIMENSION:]\n",
        "                while len(a) < DIMENSION:\n",
        "                    a.append((255,255,255))\n",
        "\n",
        "                color_matrix.append(a)\n",
        "\n",
        "            plt.clf()\n",
        "            plt.imshow(color_matrix)\n",
        "            plt.savefig(f\"{i}.png\")\n",
        "            plt.show()\n",
        "\n",
        "            img = cv2.imread(f\"{i}.png\")\n",
        "            height, width, layers = img.shape\n",
        "            size = (width,height)\n",
        "\n",
        "            if not initialized:\n",
        "                out = cv2.VideoWriter(f\"output.mp4\",cv2.VideoWriter_fourcc(*'DIVX'), 1, size)\n",
        "                initialized = True\n",
        "\n",
        "\n",
        "            i += 1\n",
        "            out.write(img)\n",
        "\n",
        "            change_df = change_df.append({\"stock\":symbol, \"change\":change}, ignore_index=True)\n",
        "            total_change += change\n",
        "            total_stock += 1\n",
        "            print(\"average change:\", round(total_change/total_stock,6)*100, \"%\")\n",
        "\n",
        "\n",
        "\n",
        "\n",
        "        except Exception as e:\n",
        "            print(e)\n",
        "\n",
        "        while time.time() - start < 1:\n",
        "            pass\n",
        "\n",
        "    with open(\"/content/drive/MyDrive/Investment_Analysis/cripto_stock_df.txt\", \"wb\") as f:\n",
        "        f.write(pickle.dumps(stock_df))\n",
        "    out.release()\n",
        "\n",
        "    return change_df"
      ],
      "metadata": {
        "id": "cmYikGhJgEB-"
      },
      "execution_count": null,
      "outputs": []
    },
    {
      "cell_type": "code",
      "source": [
        "change_df = update_stock_df()"
      ],
      "metadata": {
        "colab": {
          "base_uri": "https://localhost:8080/",
          "height": 1000
        },
        "id": "PVNPBdztgQDU",
        "outputId": "718a95a9-e4d4-42f1-9048-bf8764e0aad8"
      },
      "execution_count": null,
      "outputs": [
        {
          "output_type": "stream",
          "name": "stderr",
          "text": [
            "\r  0%|          | 0/20 [00:00<?, ?it/s]"
          ]
        },
        {
          "output_type": "display_data",
          "data": {
            "image/png": "[encoded data removed]",
            "text/plain": [
              "<Figure size 432x288 with 1 Axes>"
            ]
          },
          "metadata": {
            "needs_background": "light"
          }
        },
        {
          "output_type": "stream",
          "name": "stdout",
          "text": [
            "average change: nan %\n"
          ]
        },
        {
          "output_type": "stream",
          "name": "stderr",
          "text": [
            "\r  5%|▌         | 1/20 [00:01<00:19,  1.00s/it]"
          ]
        },
        {
          "output_type": "display_data",
          "data": {
            "image/png": "[encoded data removed]",
            "text/plain": [
              "<Figure size 432x288 with 1 Axes>"
            ]
          },
          "metadata": {
            "needs_background": "light"
          }
        },
        {
          "output_type": "stream",
          "name": "stdout",
          "text": [
            "average change: nan %\n"
          ]
        },
        {
          "output_type": "stream",
          "name": "stderr",
          "text": [
            "\r 10%|█         | 2/20 [00:02<00:18,  1.01s/it]"
          ]
        },
        {
          "output_type": "display_data",
          "data": {
            "image/png": "[encoded data removed]",
            "text/plain": [
              "<Figure size 432x288 with 1 Axes>"
            ]
          },
          "metadata": {
            "needs_background": "light"
          }
        },
        {
          "output_type": "stream",
          "name": "stdout",
          "text": [
            "average change: nan %\n"
          ]
        },
        {
          "output_type": "stream",
          "name": "stderr",
          "text": [
            "\r 15%|█▌        | 3/20 [00:03<00:17,  1.01s/it]"
          ]
        },
        {
          "output_type": "display_data",
          "data": {
            "image/png": "[encoded data removed]",
            "text/plain": [
              "<Figure size 432x288 with 1 Axes>"
            ]
          },
          "metadata": {
            "needs_background": "light"
          }
        },
        {
          "output_type": "stream",
          "name": "stdout",
          "text": [
            "average change: nan %\n"
          ]
        },
        {
          "output_type": "stream",
          "name": "stderr",
          "text": [
            "\r 20%|██        | 4/20 [00:04<00:16,  1.01s/it]"
          ]
        },
        {
          "output_type": "display_data",
          "data": {
            "image/png": "[encoded data removed]",
            "text/plain": [
              "<Figure size 432x288 with 1 Axes>"
            ]
          },
          "metadata": {
            "needs_background": "light"
          }
        },
        {
          "output_type": "stream",
          "name": "stdout",
          "text": [
            "average change: nan %\n"
          ]
        },
        {
          "output_type": "stream",
          "name": "stderr",
          "text": [
            "\r 25%|██▌       | 5/20 [00:05<00:15,  1.00s/it]"
          ]
        },
        {
          "output_type": "display_data",
          "data": {
            "image/png": "[encoded data removed]",
            "text/plain": [
              "<Figure size 432x288 with 1 Axes>"
            ]
          },
          "metadata": {
            "needs_background": "light"
          }
        },
        {
          "output_type": "stream",
          "name": "stdout",
          "text": [
            "average change: nan %\n"
          ]
        },
        {
          "output_type": "stream",
          "name": "stderr",
          "text": [
            "\r 30%|███       | 6/20 [00:06<00:14,  1.00s/it]"
          ]
        },
        {
          "output_type": "display_data",
          "data": {
            "image/png": "[encoded data removed]",
            "text/plain": [
              "<Figure size 432x288 with 1 Axes>"
            ]
          },
          "metadata": {
            "needs_background": "light"
          }
        },
        {
          "output_type": "stream",
          "name": "stdout",
          "text": [
            "average change: nan %\n"
          ]
        },
        {
          "output_type": "stream",
          "name": "stderr",
          "text": [
            "\r 35%|███▌      | 7/20 [00:07<00:13,  1.00s/it]"
          ]
        },
        {
          "output_type": "display_data",
          "data": {
            "image/png": "[encoded data removed]",
            "text/plain": [
              "<Figure size 432x288 with 1 Axes>"
            ]
          },
          "metadata": {
            "needs_background": "light"
          }
        },
        {
          "output_type": "stream",
          "name": "stdout",
          "text": [
            "average change: nan %\n"
          ]
        },
        {
          "output_type": "stream",
          "name": "stderr",
          "text": [
            "\r 40%|████      | 8/20 [00:08<00:12,  1.00s/it]"
          ]
        },
        {
          "output_type": "display_data",
          "data": {
            "image/png": "[encoded data removed]",
            "text/plain": [
              "<Figure size 432x288 with 1 Axes>"
            ]
          },
          "metadata": {
            "needs_background": "light"
          }
        },
        {
          "output_type": "stream",
          "name": "stdout",
          "text": [
            "average change: nan %\n"
          ]
        },
        {
          "output_type": "stream",
          "name": "stderr",
          "text": [
            "\r 45%|████▌     | 9/20 [00:09<00:11,  1.00s/it]"
          ]
        },
        {
          "output_type": "display_data",
          "data": {
            "image/png": "[encoded data removed]",
            "text/plain": [
              "<Figure size 432x288 with 1 Axes>"
            ]
          },
          "metadata": {
            "needs_background": "light"
          }
        },
        {
          "output_type": "stream",
          "name": "stdout",
          "text": [
            "average change: nan %\n"
          ]
        },
        {
          "output_type": "stream",
          "name": "stderr",
          "text": [
            "\r 50%|█████     | 10/20 [00:10<00:10,  1.00s/it]"
          ]
        },
        {
          "output_type": "display_data",
          "data": {
            "image/png": "[encoded data removed]",
            "text/plain": [
              "<Figure size 432x288 with 1 Axes>"
            ]
          },
          "metadata": {
            "needs_background": "light"
          }
        },
        {
          "output_type": "stream",
          "name": "stdout",
          "text": [
            "average change: nan %\n"
          ]
        },
        {
          "output_type": "stream",
          "name": "stderr",
          "text": [
            "\r 55%|█████▌    | 11/20 [00:11<00:09,  1.00s/it]"
          ]
        },
        {
          "output_type": "display_data",
          "data": {
            "image/png": "[encoded data removed]",
            "text/plain": [
              "<Figure size 432x288 with 1 Axes>"
            ]
          },
          "metadata": {
            "needs_background": "light"
          }
        },
        {
          "output_type": "stream",
          "name": "stdout",
          "text": [
            "average change: nan %\n"
          ]
        },
        {
          "output_type": "stream",
          "name": "stderr",
          "text": [
            "\r 60%|██████    | 12/20 [00:12<00:08,  1.00s/it]"
          ]
        },
        {
          "output_type": "display_data",
          "data": {
            "image/png": "[encoded data removed]",
            "text/plain": [
              "<Figure size 432x288 with 1 Axes>"
            ]
          },
          "metadata": {
            "needs_background": "light"
          }
        },
        {
          "output_type": "stream",
          "name": "stdout",
          "text": [
            "average change: nan %\n"
          ]
        },
        {
          "output_type": "stream",
          "name": "stderr",
          "text": [
            "\r 65%|██████▌   | 13/20 [00:13<00:07,  1.00s/it]"
          ]
        },
        {
          "output_type": "display_data",
          "data": {
            "image/png": "[encoded data removed]",
            "text/plain": [
              "<Figure size 432x288 with 1 Axes>"
            ]
          },
          "metadata": {
            "needs_background": "light"
          }
        },
        {
          "output_type": "stream",
          "name": "stdout",
          "text": [
            "average change: nan %\n"
          ]
        },
        {
          "output_type": "stream",
          "name": "stderr",
          "text": [
            "\r 70%|███████   | 14/20 [00:14<00:06,  1.00s/it]"
          ]
        },
        {
          "output_type": "display_data",
          "data": {
            "image/png": "[encoded data removed]",
            "text/plain": [
              "<Figure size 432x288 with 1 Axes>"
            ]
          },
          "metadata": {
            "needs_background": "light"
          }
        },
        {
          "output_type": "stream",
          "name": "stdout",
          "text": [
            "average change: nan %\n"
          ]
        },
        {
          "output_type": "stream",
          "name": "stderr",
          "text": [
            "\r 75%|███████▌  | 15/20 [00:15<00:05,  1.00s/it]"
          ]
        },
        {
          "output_type": "display_data",
          "data": {
            "image/png": "[encoded data removed]",
            "text/plain": [
              "<Figure size 432x288 with 1 Axes>"
            ]
          },
          "metadata": {
            "needs_background": "light"
          }
        },
        {
          "output_type": "stream",
          "name": "stdout",
          "text": [
            "average change: nan %\n"
          ]
        },
        {
          "output_type": "stream",
          "name": "stderr",
          "text": [
            "\r 80%|████████  | 16/20 [00:16<00:04,  1.00s/it]"
          ]
        },
        {
          "output_type": "display_data",
          "data": {
            "image/png": "[encoded data removed]",
            "text/plain": [
              "<Figure size 432x288 with 1 Axes>"
            ]
          },
          "metadata": {
            "needs_background": "light"
          }
        },
        {
          "output_type": "stream",
          "name": "stdout",
          "text": [
            "average change: nan %\n"
          ]
        },
        {
          "output_type": "stream",
          "name": "stderr",
          "text": [
            "\r 85%|████████▌ | 17/20 [00:17<00:03,  1.00s/it]"
          ]
        },
        {
          "output_type": "stream",
          "name": "stdout",
          "text": [
            "HTTP Error 404: Not Found\n"
          ]
        },
        {
          "output_type": "stream",
          "name": "stderr",
          "text": [
            "\r 90%|█████████ | 18/20 [00:18<00:02,  1.00s/it]"
          ]
        },
        {
          "output_type": "display_data",
          "data": {
            "image/png": "[encoded data removed]",
            "text/plain": [
              "<Figure size 432x288 with 1 Axes>"
            ]
          },
          "metadata": {
            "needs_background": "light"
          }
        },
        {
          "output_type": "stream",
          "name": "stdout",
          "text": [
            "average change: nan %\n"
          ]
        },
        {
          "output_type": "stream",
          "name": "stderr",
          "text": [
            "\r 95%|█████████▌| 19/20 [00:19<00:01,  1.00s/it]"
          ]
        },
        {
          "output_type": "display_data",
          "data": {
            "image/png": "[encoded data removed]",
            "text/plain": [
              "<Figure size 432x288 with 1 Axes>"
            ]
          },
          "metadata": {
            "needs_background": "light"
          }
        },
        {
          "output_type": "stream",
          "name": "stdout",
          "text": [
            "average change: nan %\n"
          ]
        },
        {
          "output_type": "stream",
          "name": "stderr",
          "text": [
            "100%|██████████| 20/20 [00:20<00:00,  1.00s/it]\n"
          ]
        }
      ]
    },
    {
      "cell_type": "code",
      "source": [
        "print(change_df.sort_values(by=[\"change\"]))"
      ],
      "metadata": {
        "id": "5MS05Xc5gQlX",
        "outputId": "8c85f79f-883f-4437-81ab-091c449613ab",
        "colab": {
          "base_uri": "https://localhost:8080/"
        }
      },
      "execution_count": null,
      "outputs": [
        {
          "output_type": "stream",
          "name": "stdout",
          "text": [
            "        stock change\n",
            "0     BTC-USD    NaN\n",
            "1     ETH-USD    NaN\n",
            "2     XRP-USD    NaN\n",
            "3     BCH-USD    NaN\n",
            "4     ADA-USD    NaN\n",
            "5     LTC-USD    NaN\n",
            "6     XEM-USD    NaN\n",
            "7     XLM-USD    NaN\n",
            "8     EOS-USD    NaN\n",
            "9     NEO-USD    NaN\n",
            "10  MIOTA-USD    NaN\n",
            "11   DASH-USD    NaN\n",
            "12    XMR-USD    NaN\n",
            "13    TRX-USD    NaN\n",
            "14    XTZ-USD    NaN\n",
            "15   DOGE-USD    NaN\n",
            "16    ETC-USD    NaN\n",
            "17   USDT-USD    NaN\n",
            "18    BNB-USD    NaN\n"
          ]
        }
      ]
    },
    {
      "cell_type": "code",
      "source": [
        "print(os.path.getsize(\"/content/drive/MyDrive/Investment_Analysis/s&p_500_stock_df.txt\")/1024/1024/1024)"
      ],
      "metadata": {
        "id": "Mfh4mUbTgTdz",
        "outputId": "c405de44-9952-4283-a112-de13443a1c8a",
        "colab": {
          "base_uri": "https://localhost:8080/"
        }
      },
      "execution_count": null,
      "outputs": [
        {
          "output_type": "stream",
          "name": "stdout",
          "text": [
            "0.14543388038873672\n"
          ]
        }
      ]
    }
  ]
}